{
  "nbformat": 4,
  "nbformat_minor": 0,
  "metadata": {
    "colab": {
      "name": "Search Arabic Texts by REGEX.ipynb",
      "provenance": [],
      "authorship_tag": "ABX9TyOEFphhR2FSnGJqHONzIf0W",
      "include_colab_link": true
    },
    "kernelspec": {
      "name": "python3",
      "display_name": "Python 3"
    }
  },
  "cells": [
    {
      "cell_type": "markdown",
      "metadata": {
        "id": "view-in-github",
        "colab_type": "text"
      },
      "source": [
        "<a href=\"https://colab.research.google.com/github/khuloodnasher/Search-Arabic-TEXTS-by-REGEX/blob/main/Search_Arabic_Texts_by_REGEX.ipynb\" target=\"_parent\"><img src=\"https://colab.research.google.com/assets/colab-badge.svg\" alt=\"Open In Colab\"/></a>"
      ]
    },
    {
      "cell_type": "code",
      "metadata": {
        "colab": {
          "base_uri": "https://localhost:8080/"
        },
        "id": "A1SCCBNvwiv5",
        "outputId": "bff9c6ce-a2bb-4f93-9414-30aea9528daa"
      },
      "source": [
        "import re\n",
        "my_text= '١٩/١١/٢٠٢٠ أسوشيتد برس  كروم ٨٧، هو آخر تحديث للمتصفح هذا العام سيعمل على تحديث إدارة المتصفح للموارد'\n",
        "my_pattern='كروم'\n",
        "\n",
        "re.search(my_pattern,my_text)"
      ],
      "execution_count": 2,
      "outputs": [
        {
          "output_type": "execute_result",
          "data": {
            "text/plain": [
              "<_sre.SRE_Match object; span=(24, 28), match='كروم'>"
            ]
          },
          "metadata": {
            "tags": []
          },
          "execution_count": 2
        }
      ]
    },
    {
      "cell_type": "markdown",
      "metadata": {
        "id": "KbH1ry4C9NFs"
      },
      "source": [
        "Extracting Numeric Data "
      ]
    },
    {
      "cell_type": "code",
      "metadata": {
        "colab": {
          "base_uri": "https://localhost:8080/"
        },
        "id": "y2kPaDRQ9Cx6",
        "outputId": "57bf7b04-32d9-4a2b-bdf8-f36c15709b61"
      },
      "source": [
        "\n",
        "my_text= '١٩/١١/٢٠٢٠ أسوشيتد برس  كروم ٨٧، هو آخر تحديث للمتصفح هذا العام سيعمل على تحديث إدارة المتصفح للموارد'\n",
        "\n",
        "my_pattern= re.findall(r'\\d+',my_text)\n",
        "my_pattern"
      ],
      "execution_count": 11,
      "outputs": [
        {
          "output_type": "execute_result",
          "data": {
            "text/plain": [
              "['١٩', '١١', '٢٠٢٠', '٨٧']"
            ]
          },
          "metadata": {
            "tags": []
          },
          "execution_count": 11
        }
      ]
    },
    {
      "cell_type": "markdown",
      "metadata": {
        "id": "eLBPPi6F8lRn"
      },
      "source": [
        "## Extracting Date Pattern"
      ]
    },
    {
      "cell_type": "code",
      "metadata": {
        "colab": {
          "base_uri": "https://localhost:8080/"
        },
        "id": "DItUmTa38jNm",
        "outputId": "20d1809c-887f-4d50-e2ae-d0ef7b41ad9e"
      },
      "source": [
        "my_text= '١٩/١١/٢٠٢٠ أسوشيتد برس  كروم ٨٧، هو آخر تحديث للمتصفح هذا العام سيعمل على تحديث إدارة المتصفح للموارد'\n",
        "my_pattern= re.findall(r'\\d{2}/\\d{2}/\\d{4}',my_text)\n",
        "my_pattern"
      ],
      "execution_count": 13,
      "outputs": [
        {
          "output_type": "execute_result",
          "data": {
            "text/plain": [
              "['١٩/١١/٢٠٢٠']"
            ]
          },
          "metadata": {
            "tags": []
          },
          "execution_count": 13
        }
      ]
    },
    {
      "cell_type": "markdown",
      "metadata": {
        "id": "WZgUiLIDXFqd"
      },
      "source": [
        "## OR Operator"
      ]
    },
    {
      "cell_type": "code",
      "metadata": {
        "colab": {
          "base_uri": "https://localhost:8080/"
        },
        "id": "AUJPOUkD85tX",
        "outputId": "a05a041f-2901-4b3a-c348-fbab0e11d379"
      },
      "source": [
        "# search method\n",
        "my_text= '١٩/١١/٢٠٢٠ أسوشيتد برس  كروم ٨٧، هو آخر تحديث للمتصفح هذا العام في شركه جوجل حيث سيعمل على تحديث إدارة المتصفح للموارد'\n",
        "my_pattern= re.search(r'جوجل|كروم',my_text)\n",
        "my_pattern"
      ],
      "execution_count": 5,
      "outputs": [
        {
          "output_type": "execute_result",
          "data": {
            "text/plain": [
              "<_sre.SRE_Match object; span=(24, 28), match='كروم'>"
            ]
          },
          "metadata": {
            "tags": []
          },
          "execution_count": 5
        }
      ]
    },
    {
      "cell_type": "code",
      "metadata": {
        "colab": {
          "base_uri": "https://localhost:8080/"
        },
        "id": "GMm7Q3W1YiMb",
        "outputId": "b6e27eb4-6a44-4560-9540-024502c6dd08"
      },
      "source": [
        "# findall method\n",
        "my_text= '١٩/١١/٢٠٢٠ أسوشيتد برس  كروم ٨٧، هو آخر تحديث للمتصفح هذا العام في شركه جوجل حيث سيعمل على تحديث إدارة المتصفح للموارد'\n",
        "my_pattern= re.findall(r'جوجل|كروم',my_text)\n",
        "my_pattern"
      ],
      "execution_count": 6,
      "outputs": [
        {
          "output_type": "execute_result",
          "data": {
            "text/plain": [
              "['كروم', 'جوجل']"
            ]
          },
          "metadata": {
            "tags": []
          },
          "execution_count": 6
        }
      ]
    },
    {
      "cell_type": "code",
      "metadata": {
        "id": "1Dd9LVfKY2k6"
      },
      "source": [
        ""
      ],
      "execution_count": null,
      "outputs": []
    }
  ]
}