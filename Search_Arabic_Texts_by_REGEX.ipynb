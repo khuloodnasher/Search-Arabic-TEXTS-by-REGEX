{
  "nbformat": 4,
  "nbformat_minor": 0,
  "metadata": {
    "colab": {
      "name": "Search Arabic Texts by REGEX.ipynb",
      "provenance": [],
      "authorship_tag": "ABX9TyPeU8lnMW3Oc3wOqU55Or83",
      "include_colab_link": true
    },
    "kernelspec": {
      "name": "python3",
      "display_name": "Python 3"
    }
  },
  "cells": [
    {
      "cell_type": "markdown",
      "metadata": {
        "id": "view-in-github",
        "colab_type": "text"
      },
      "source": [
        "<a href=\"https://colab.research.google.com/github/khuloodnasher/Search-Arabic-TEXTS-by-REGEX/blob/main/Search_Arabic_Texts_by_REGEX.ipynb\" target=\"_parent\"><img src=\"https://colab.research.google.com/assets/colab-badge.svg\" alt=\"Open In Colab\"/></a>"
      ]
    },
    {
      "cell_type": "code",
      "metadata": {
        "colab": {
          "base_uri": "https://localhost:8080/"
        },
        "id": "A1SCCBNvwiv5",
        "outputId": "eba5c4b7-18bb-4a58-c262-a9b19e193ad9"
      },
      "source": [
        "import re\n",
        "my_text= '١٩/١١/٢٠٢٠ أسوشيتد برس  كروم ٨٧، هو آخر تحديث للمتصفح هذا العام سيعمل على تحديث إدارة المتصفح للموارد'\n",
        "my_pattern='كروم'\n",
        "\n",
        "re.search(my_pattern,my_text)"
      ],
      "execution_count": 2,
      "outputs": [
        {
          "output_type": "execute_result",
          "data": {
            "text/plain": [
              "<_sre.SRE_Match object; span=(24, 28), match='كروم'>"
            ]
          },
          "metadata": {
            "tags": []
          },
          "execution_count": 2
        }
      ]
    },
    {
      "cell_type": "markdown",
      "metadata": {
        "id": "KbH1ry4C9NFs"
      },
      "source": [
        "Extracting Numeric Data "
      ]
    },
    {
      "cell_type": "code",
      "metadata": {
        "colab": {
          "base_uri": "https://localhost:8080/"
        },
        "id": "y2kPaDRQ9Cx6",
        "outputId": "57bf7b04-32d9-4a2b-bdf8-f36c15709b61"
      },
      "source": [
        "\n",
        "my_text= '١٩/١١/٢٠٢٠ أسوشيتد برس  كروم ٨٧، هو آخر تحديث للمتصفح هذا العام سيعمل على تحديث إدارة المتصفح للموارد'\n",
        "\n",
        "my_pattern= re.findall(r'\\d+',my_text)\n",
        "my_pattern"
      ],
      "execution_count": 11,
      "outputs": [
        {
          "output_type": "execute_result",
          "data": {
            "text/plain": [
              "['١٩', '١١', '٢٠٢٠', '٨٧']"
            ]
          },
          "metadata": {
            "tags": []
          },
          "execution_count": 11
        }
      ]
    },
    {
      "cell_type": "markdown",
      "metadata": {
        "id": "oA31nqmVOl7U"
      },
      "source": [
        "## Exluding Numeric Data"
      ]
    },
    {
      "cell_type": "code",
      "metadata": {
        "colab": {
          "base_uri": "https://localhost:8080/"
        },
        "id": "5-rAoSGkOtA-",
        "outputId": "988e3947-8b87-4b96-d780-3299f2f32aa7"
      },
      "source": [
        "my_text= '١٩/١١/٢٠٢٠ أسوشيتد برس  كروم ٨٧، هو آخر تحديث للمتصفح هذا العام سيعمل على تحديث إدارة المتصفح للموارد'\n",
        "\n",
        "re.findall(r'[^\\d]+',my_text)"
      ],
      "execution_count": 17,
      "outputs": [
        {
          "output_type": "execute_result",
          "data": {
            "text/plain": [
              "['/',\n",
              " '/',\n",
              " ' أسوشيتد برس  كروم ',\n",
              " '، هو آخر تحديث للمتصفح هذا العام سيعمل على تحديث إدارة المتصفح للموارد']"
            ]
          },
          "metadata": {
            "tags": []
          },
          "execution_count": 17
        }
      ]
    },
    {
      "cell_type": "markdown",
      "metadata": {
        "id": "eLBPPi6F8lRn"
      },
      "source": [
        "## Extracting Date Pattern"
      ]
    },
    {
      "cell_type": "code",
      "metadata": {
        "colab": {
          "base_uri": "https://localhost:8080/"
        },
        "id": "DItUmTa38jNm",
        "outputId": "20d1809c-887f-4d50-e2ae-d0ef7b41ad9e"
      },
      "source": [
        "my_text= '١٩/١١/٢٠٢٠ أسوشيتد برس  كروم ٨٧، هو آخر تحديث للمتصفح هذا العام سيعمل على تحديث إدارة المتصفح للموارد'\n",
        "my_pattern= re.findall(r'\\d{2}/\\d{2}/\\d{4}',my_text)\n",
        "my_pattern"
      ],
      "execution_count": 13,
      "outputs": [
        {
          "output_type": "execute_result",
          "data": {
            "text/plain": [
              "['١٩/١١/٢٠٢٠']"
            ]
          },
          "metadata": {
            "tags": []
          },
          "execution_count": 13
        }
      ]
    },
    {
      "cell_type": "markdown",
      "metadata": {
        "id": "WZgUiLIDXFqd"
      },
      "source": [
        "## OR Operator"
      ]
    },
    {
      "cell_type": "code",
      "metadata": {
        "colab": {
          "base_uri": "https://localhost:8080/"
        },
        "id": "AUJPOUkD85tX",
        "outputId": "a05a041f-2901-4b3a-c348-fbab0e11d379"
      },
      "source": [
        "# search method\n",
        "my_text= '١٩/١١/٢٠٢٠ أسوشيتد برس  كروم ٨٧، هو آخر تحديث للمتصفح هذا العام في شركه جوجل حيث سيعمل على تحديث إدارة المتصفح للموارد'\n",
        "my_pattern= re.search(r'جوجل|كروم',my_text)\n",
        "my_pattern"
      ],
      "execution_count": 5,
      "outputs": [
        {
          "output_type": "execute_result",
          "data": {
            "text/plain": [
              "<_sre.SRE_Match object; span=(24, 28), match='كروم'>"
            ]
          },
          "metadata": {
            "tags": []
          },
          "execution_count": 5
        }
      ]
    },
    {
      "cell_type": "code",
      "metadata": {
        "colab": {
          "base_uri": "https://localhost:8080/"
        },
        "id": "GMm7Q3W1YiMb",
        "outputId": "b6e27eb4-6a44-4560-9540-024502c6dd08"
      },
      "source": [
        "# findall method\n",
        "my_text= '١٩/١١/٢٠٢٠ أسوشيتد برس  كروم ٨٧، هو آخر تحديث للمتصفح هذا العام في شركه جوجل حيث سيعمل على تحديث إدارة المتصفح للموارد'\n",
        "my_pattern= re.findall(r'جوجل|كروم',my_text)\n",
        "my_pattern"
      ],
      "execution_count": 6,
      "outputs": [
        {
          "output_type": "execute_result",
          "data": {
            "text/plain": [
              "['كروم', 'جوجل']"
            ]
          },
          "metadata": {
            "tags": []
          },
          "execution_count": 6
        }
      ]
    },
    {
      "cell_type": "markdown",
      "metadata": {
        "id": "8rlnaVTGKzHk"
      },
      "source": [
        "## Searching Sequence of Arabic Letters"
      ]
    },
    {
      "cell_type": "code",
      "metadata": {
        "colab": {
          "base_uri": "https://localhost:8080/"
        },
        "id": "OODKjTwfK9tA",
        "outputId": "af928db3-edae-4558-d069-af2f1e2f87a3"
      },
      "source": [
        "# searching sequence of 'يث'\n",
        "my_text= '١٩/١١/٢٠٢٠ أسوشيتد برس  كروم ٨٧، هو آخر تحديث للمتصفح هذا العام في شركه جوجل حيث سيعمل على تحديث إدارة المتصفح للموارد'\n",
        "my_pattern= re.findall(r'.يث',my_text)\n",
        "my_pattern"
      ],
      "execution_count": 3,
      "outputs": [
        {
          "output_type": "execute_result",
          "data": {
            "text/plain": [
              "['ديث', 'حيث', 'ديث']"
            ]
          },
          "metadata": {
            "tags": []
          },
          "execution_count": 3
        }
      ]
    },
    {
      "cell_type": "code",
      "metadata": {
        "colab": {
          "base_uri": "https://localhost:8080/"
        },
        "id": "oJOeinCoLneO",
        "outputId": "f7fc8790-5a9a-4a41-c9c4-13c4be8a7b75"
      },
      "source": [
        "# to get more charactes precede 'يث' just add one more '.'\n",
        "my_text= '١٩/١١/٢٠٢٠ أسوشيتد برس  كروم ٨٧، هو آخر تحديث للمتصفح هذا العام في شركه جوجل حيث سيعمل على تحديث إدارة المتصفح للموارد'\n",
        "print(re.findall(r'..يث',my_text)) # will give us two character precede 'يث'\n",
        "print(re.findall(r'...يث',my_text)) # will give us three character precede 'يث'\n"
      ],
      "execution_count": 7,
      "outputs": [
        {
          "output_type": "stream",
          "text": [
            "['حديث', ' حيث', 'حديث']\n",
            "['تحديث', 'ل حيث', 'تحديث']\n"
          ],
          "name": "stdout"
        }
      ]
    },
    {
      "cell_type": "code",
      "metadata": {
        "colab": {
          "base_uri": "https://localhost:8080/"
        },
        "id": "1Dd9LVfKY2k6",
        "outputId": "9f71097b-b967-4735-ee43-0092682210e7"
      },
      "source": [
        "# to get all the charactes precede 'يث' \n",
        "\n",
        "my_text= '١٩/١١/٢٠٢٠ أسوشيتد برس  كروم ٨٧، هو آخر تحديث للمتصفح هذا العام في شركه جوجل حيث سيعمل على تحديث إدارة المتصفح للموارد'\n",
        "print(re.findall(r'\\S+يث',my_text)) "
      ],
      "execution_count": 14,
      "outputs": [
        {
          "output_type": "stream",
          "text": [
            "['تحديث', 'حيث', 'تحديث']\n"
          ],
          "name": "stdout"
        }
      ]
    },
    {
      "cell_type": "markdown",
      "metadata": {
        "id": "u1y7I8StPwWg"
      },
      "source": [
        "## Cleaning Arabic TEXTS"
      ]
    },
    {
      "cell_type": "code",
      "metadata": {
        "colab": {
          "base_uri": "https://localhost:8080/"
        },
        "id": "4bVwo9fKM02I",
        "outputId": "ecbbbac9-3af4-4124-81b4-f120610106a1"
      },
      "source": [
        "my_text= '١٩/١١/٢٠٢٠ أسوشيتد برس  كروم ٨٧، هو آخر تحديث للمتصفح هذا العام في شركه جوجل حيث سيعمل على تحديث إدارة المتصفح للموارد'\n",
        "re.findall('[^؟,!. ]+',my_text)"
      ],
      "execution_count": 18,
      "outputs": [
        {
          "output_type": "execute_result",
          "data": {
            "text/plain": [
              "['١٩/١١/٢٠٢٠',\n",
              " 'أسوشيتد',\n",
              " 'برس',\n",
              " 'كروم',\n",
              " '٨٧،',\n",
              " 'هو',\n",
              " 'آخر',\n",
              " 'تحديث',\n",
              " 'للمتصفح',\n",
              " 'هذا',\n",
              " 'العام',\n",
              " 'في',\n",
              " 'شركه',\n",
              " 'جوجل',\n",
              " 'حيث',\n",
              " 'سيعمل',\n",
              " 'على',\n",
              " 'تحديث',\n",
              " 'إدارة',\n",
              " 'المتصفح',\n",
              " 'للموارد']"
            ]
          },
          "metadata": {
            "tags": []
          },
          "execution_count": 18
        }
      ]
    },
    {
      "cell_type": "code",
      "metadata": {
        "colab": {
          "base_uri": "https://localhost:8080/",
          "height": 35
        },
        "id": "GUa5BNO7QKap",
        "outputId": "9f9a8f4e-9deb-447c-a18e-1013a7658448"
      },
      "source": [
        "# to join the clened text as a whole string, we add ''.join to our cleaned text\n",
        "my_text= '١٩/١١/٢٠٢٠ أسوشيتد برس  كروم ٨٧، هو آخر تحديث للمتصفح هذا العام في شركه جوجل حيث سيعمل على تحديث إدارة المتصفح للموارد'\n",
        "cleaned_text=' '.join(re.findall('[^؟,!. ]+',my_text))\n",
        "\n",
        "cleaned_text"
      ],
      "execution_count": 21,
      "outputs": [
        {
          "output_type": "execute_result",
          "data": {
            "application/vnd.google.colaboratory.intrinsic+json": {
              "type": "string"
            },
            "text/plain": [
              "'١٩/١١/٢٠٢٠ أسوشيتد برس كروم ٨٧، هو آخر تحديث للمتصفح هذا العام في شركه جوجل حيث سيعمل على تحديث إدارة المتصفح للموارد'"
            ]
          },
          "metadata": {
            "tags": []
          },
          "execution_count": 21
        }
      ]
    },
    {
      "cell_type": "code",
      "metadata": {
        "id": "LEE9Zp-ZWGfJ"
      },
      "source": [
        ""
      ],
      "execution_count": null,
      "outputs": []
    }
  ]
}