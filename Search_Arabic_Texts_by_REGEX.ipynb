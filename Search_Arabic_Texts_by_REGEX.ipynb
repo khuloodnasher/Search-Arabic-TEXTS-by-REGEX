{
  "nbformat": 4,
  "nbformat_minor": 0,
  "metadata": {
    "colab": {
      "name": "Search Arabic Texts by REGEX.ipynb",
      "provenance": [],
      "authorship_tag": "ABX9TyNGDzhSsMDOD+k8FGentBRS",
      "include_colab_link": true
    },
    "kernelspec": {
      "name": "python3",
      "display_name": "Python 3"
    }
  },
  "cells": [
    {
      "cell_type": "markdown",
      "metadata": {
        "id": "view-in-github",
        "colab_type": "text"
      },
      "source": [
        "<a href=\"https://colab.research.google.com/github/khuloodnasher/Search-Arabic-TEXTS-by-REGEX/blob/main/Search_Arabic_Texts_by_REGEX.ipynb\" target=\"_parent\"><img src=\"https://colab.research.google.com/assets/colab-badge.svg\" alt=\"Open In Colab\"/></a>"
      ]
    },
    {
      "cell_type": "code",
      "metadata": {
        "id": "A1SCCBNvwiv5"
      },
      "source": [
        "import re\n",
        "text='19/11/2020 كروم 87، هو آخر تحديث للمتصفح هذا العام، سيعمل على تحديث إدارة المتصفح للموارد (أسوشيتد برس)'\n",
        "\n"
      ],
      "execution_count": 3,
      "outputs": []
    },
    {
      "cell_type": "code",
      "metadata": {
        "id": "BdzMNExlxHHy"
      },
      "source": [
        ""
      ],
      "execution_count": null,
      "outputs": []
    }
  ]
}